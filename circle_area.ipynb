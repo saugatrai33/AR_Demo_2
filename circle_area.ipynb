{
  "nbformat": 4,
  "nbformat_minor": 0,
  "metadata": {
    "colab": {
      "name": "circle area.ipynb",
      "provenance": [],
      "authorship_tag": "ABX9TyMxbGyqHZEg/9ajUhQ/qacf",
      "include_colab_link": true
    },
    "kernelspec": {
      "name": "python3",
      "display_name": "Python 3"
    }
  },
  "cells": [
    {
      "cell_type": "markdown",
      "metadata": {
        "id": "view-in-github",
        "colab_type": "text"
      },
      "source": [
        "<a href=\"https://colab.research.google.com/github/saugatrai33/AR_Demo_2/blob/master/circle_area.ipynb\" target=\"_parent\"><img src=\"https://colab.research.google.com/assets/colab-badge.svg\" alt=\"Open In Colab\"/></a>"
      ]
    },
    {
      "cell_type": "markdown",
      "metadata": {
        "id": "DBIQF5zQ4VOR"
      },
      "source": [
        "Finding relationship given radius as input and area of circle as output.\n",
        "For example, given radius = 2, then area of circle = 6.25. The formula is \n",
        "A = 3.14 * radius."
      ]
    },
    {
      "cell_type": "markdown",
      "metadata": {
        "id": "Jr9GdGXD3p5H"
      },
      "source": [
        "## Import Dependencies"
      ]
    },
    {
      "cell_type": "code",
      "metadata": {
        "id": "CucX645k4LOP"
      },
      "source": [
        "import tensorflow as tf\n",
        "import numpy as np\n",
        "import logging\n",
        "logger = tf.get_logger()\n",
        "logger.setLevel(logging.ERROR)"
      ],
      "execution_count": null,
      "outputs": []
    },
    {
      "cell_type": "markdown",
      "metadata": {
        "id": "xBpdJpdV41kd"
      },
      "source": [
        "## Setting up training data"
      ]
    },
    {
      "cell_type": "code",
      "metadata": {
        "id": "uBeGR-dZ6lZN"
      },
      "source": [
        "radii = np.array([2, 4, 6, 8, 10, 12, 14, 16])\n",
        "area = np.array([6.28, 12.56, 18.84, 25.12, 31.4, 37.68, 43.96, 50.24])\n",
        "\n",
        "for idx, radius in enumerate(radii):\n",
        "  print(\"Rasius:: {}. Area of Circle:: {}\".format(radius, area[idx]))"
      ],
      "execution_count": null,
      "outputs": []
    },
    {
      "cell_type": "markdown",
      "metadata": {
        "id": "MufAIIu18tjU"
      },
      "source": [
        "Feature - input to the model, radii\n",
        "Labels - output of the model, area\n",
        "Examples - input/output pairs"
      ]
    },
    {
      "cell_type": "markdown",
      "metadata": {
        "id": "UpyKdA0z88NX"
      },
      "source": [
        "## Setting Up Model"
      ]
    },
    {
      "cell_type": "code",
      "metadata": {
        "id": "6ZZPnisW8-5M"
      },
      "source": [
        ""
      ],
      "execution_count": null,
      "outputs": []
    }
  ]
}